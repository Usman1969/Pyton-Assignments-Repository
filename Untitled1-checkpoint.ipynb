{
 "cells": [
  {
   "cell_type": "code",
   "execution_count": 26,
   "id": "82a806b4",
   "metadata": {},
   "outputs": [
    {
     "name": "stdout",
     "output_type": "stream",
     "text": [
      "Twinkel, twinkel, little star,\n",
      "         How I Wonder what you are!\n",
      "                 Upabove the world so high\n",
      "                 Like adimond in the sky.\n",
      "Twinkel, twinkel, little star,\n",
      "         How I Wonder what you are!\n"
     ]
    }
   ],
   "source": [
    "print(\"Twinkel, twinkel, little star,\") \n",
    "print(\"         How I Wonder what you are!\") \n",
    "print(\"                 Upabove the world so high\") \n",
    "print(\"                 Like adimond in the sky.\")\n",
    "print(\"Twinkel, twinkel, little star,\") \n",
    "print(\"         How I Wonder what you are!\")"
   ]
  },
  {
   "cell_type": "code",
   "execution_count": 27,
   "id": "6a389490",
   "metadata": {},
   "outputs": [
    {
     "name": "stdout",
     "output_type": "stream",
     "text": [
      "3.9.7 (default, Sep 16 2021, 16:59:28) [MSC v.1916 64 bit (AMD64)]\n"
     ]
    }
   ],
   "source": [
    "import sys\n",
    "print(sys.version)"
   ]
  },
  {
   "cell_type": "code",
   "execution_count": 28,
   "id": "359f79f4",
   "metadata": {},
   "outputs": [
    {
     "name": "stdout",
     "output_type": "stream",
     "text": [
      "Current date and time : \n",
      "2021-12-30 16:43:01\n"
     ]
    }
   ],
   "source": [
    "import datetime\n",
    "now = datetime.datetime.now()\n",
    "print (\"Current date and time : \")\n",
    "print (now.strftime(\"%Y-%m-%d %H:%M:%S\"))"
   ]
  },
  {
   "cell_type": "code",
   "execution_count": 29,
   "id": "117d2870",
   "metadata": {},
   "outputs": [
    {
     "name": "stdout",
     "output_type": "stream",
     "text": [
      "Enter radius of the circle : 44\n",
      "The area of the circle with radius 5.0 is: 6082.12337734984\n"
     ]
    }
   ],
   "source": [
    "from math import pi\n",
    "rd = float(input (\"Enter radius of the circle : \"))\n",
    "CircleArea = str(pi * rd**2);\n",
    "print (\"The area of the circle with radius \" + str(r) + \" is: \" + CircleArea)"
   ]
  },
  {
   "cell_type": "code",
   "execution_count": 30,
   "id": "f182d11a",
   "metadata": {},
   "outputs": [
    {
     "name": "stdout",
     "output_type": "stream",
     "text": [
      "Enter your First Name : Usman\n",
      "Enter your Last Name : Baig\n",
      "Baig Usman\n"
     ]
    }
   ],
   "source": [
    "fname = input(\"Enter your First Name : \")\n",
    "lname = input(\"Enter your Last Name : \")\n",
    "print (lname + \" \" + fname)\n"
   ]
  },
  {
   "cell_type": "code",
   "execution_count": 31,
   "id": "00dd3d2e",
   "metadata": {},
   "outputs": [
    {
     "name": "stdout",
     "output_type": "stream",
     "text": [
      "Enter your 1st No  : 4\n",
      "Enter your 2nd No  : 6\n",
      "10\n"
     ]
    }
   ],
   "source": [
    "X = int(input(\"Enter your 1st No  : \"))\n",
    "Y = int(input(\"Enter your 2nd No  : \"))\n",
    "z = X+Y\n",
    "print (z)"
   ]
  },
  {
   "cell_type": "code",
   "execution_count": null,
   "id": "71e906a4",
   "metadata": {},
   "outputs": [],
   "source": []
  }
 ],
 "metadata": {
  "kernelspec": {
   "display_name": "Python 3 (ipykernel)",
   "language": "python",
   "name": "python3"
  },
  "language_info": {
   "codemirror_mode": {
    "name": "ipython",
    "version": 3
   },
   "file_extension": ".py",
   "mimetype": "text/x-python",
   "name": "python",
   "nbconvert_exporter": "python",
   "pygments_lexer": "ipython3",
   "version": "3.9.7"
  }
 },
 "nbformat": 4,
 "nbformat_minor": 5
}
